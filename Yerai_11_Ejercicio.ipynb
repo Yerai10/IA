{
  "nbformat": 4,
  "nbformat_minor": 0,
  "metadata": {
    "colab": {
      "provenance": []
    },
    "kernelspec": {
      "name": "python3",
      "display_name": "Python 3"
    },
    "language_info": {
      "name": "python"
    }
  },
  "cells": [
    {
      "cell_type": "code",
      "execution_count": 27,
      "metadata": {
        "id": "b7676mNk1zxN"
      },
      "outputs": [],
      "source": [
        "from sklearn.datasets import load_breast_cancer\n",
        "import pandas as pd\n",
        "from sklearn.linear_model import LogisticRegression\n",
        "from sklearn.model_selection import cross_val_score, train_test_split\n",
        "from sklearn.model_selection import KFold\n",
        "from sklearn.metrics import accuracy_score\n",
        "import numpy as np\n",
        "import matplotlib.pyplot as plt"
      ]
    },
    {
      "cell_type": "code",
      "source": [
        "data = load_breast_cancer(as_frame = True)\n",
        "df = data.frame"
      ],
      "metadata": {
        "id": "U0I-g7Yn7gBa"
      },
      "execution_count": 28,
      "outputs": []
    },
    {
      "cell_type": "code",
      "source": [
        "df['target'].value_counts()"
      ],
      "metadata": {
        "colab": {
          "base_uri": "https://localhost:8080/"
        },
        "id": "9cMp6L8N9sWf",
        "outputId": "730d55de-8f0b-4dd6-d5cd-bb4f479ca45b"
      },
      "execution_count": 29,
      "outputs": [
        {
          "output_type": "execute_result",
          "data": {
            "text/plain": [
              "1    357\n",
              "0    212\n",
              "Name: target, dtype: int64"
            ]
          },
          "metadata": {},
          "execution_count": 29
        }
      ]
    },
    {
      "cell_type": "markdown",
      "source": [
        "**PREGUNTA**\n",
        "\n",
        "1. No dividas el dataset con train_test_split(). Calcula el accuracy de LogisticRegression(solver= 'liblinear') usando K-fold, probando Ks de 2 hasta 10 Nota: usa un for ;-)"
      ],
      "metadata": {
        "id": "QZ3m_WLl7aHs"
      }
    },
    {
      "cell_type": "code",
      "source": [
        "X = df.drop(columns=['target'])\n",
        "y = df['target']\n",
        "# Realizo el modelo con solver = \"Liblinear\"\n",
        "model = LogisticRegression(solver = \"liblinear\")\n",
        "# For para ks de 2 hasta 10 y calculo del accuracy usando k-fold cross validation\n",
        "for k in range(2, 11):\n",
        "  scores = cross_val_score(model, X, y, cv=k)\n",
        "  accuracy = scores.mean()\n",
        "  print(f\"K = {k} Accurary: {accuracy: .4f}\")\n"
      ],
      "metadata": {
        "id": "ptSVvb4hTF9o",
        "colab": {
          "base_uri": "https://localhost:8080/"
        },
        "outputId": "bebf5568-0e27-46ef-f55c-7105d03377c3"
      },
      "execution_count": 30,
      "outputs": [
        {
          "output_type": "stream",
          "name": "stdout",
          "text": [
            "K = 2 Accurary:  0.9420\n",
            "K = 3 Accurary:  0.9490\n",
            "K = 4 Accurary:  0.9438\n",
            "K = 5 Accurary:  0.9508\n",
            "K = 6 Accurary:  0.9526\n",
            "K = 7 Accurary:  0.9491\n",
            "K = 8 Accurary:  0.9508\n",
            "K = 9 Accurary:  0.9526\n",
            "K = 10 Accurary:  0.9508\n"
          ]
        }
      ]
    },
    {
      "cell_type": "markdown",
      "source": [
        "**PREGUNTA**\n",
        "\n",
        "2. Usa Stratified Kfold con 5 folds para ver el accuracy y la desviación típica que se obtiene"
      ],
      "metadata": {
        "id": "EIQJNf5q-eu9"
      }
    },
    {
      "cell_type": "code",
      "source": [
        "from sklearn.model_selection import StratifiedKFold\n",
        "# Definir el modelo y realizo la validacion crubada para obtener los scores\n",
        "skfold = StratifiedKFold(n_splits=5)\n",
        "scores = cross_val_score(model, X, y, cv=skfold)\n",
        "\n",
        "# Calculo el accuracy y la desviacion tipica\n",
        "accuracy = np.mean(scores)\n",
        "std_desviation = np.std(scores)\n",
        "\n",
        "# Visualizo los datos\n",
        "print(f\"Accuracy: {accuracy:.4f}\")\n",
        "print(f\"Desviacion estandar: {std_desviation:.4f}\")"
      ],
      "metadata": {
        "id": "QsZ-9Wl-THot",
        "colab": {
          "base_uri": "https://localhost:8080/"
        },
        "outputId": "a7a784d4-749b-4802-cfe6-6d7261bf85cb"
      },
      "execution_count": 31,
      "outputs": [
        {
          "output_type": "stream",
          "name": "stdout",
          "text": [
            "Accuracy: 0.9508\n",
            "Desviacion estandar: 0.0162\n"
          ]
        }
      ]
    },
    {
      "cell_type": "markdown",
      "source": [
        "**PREGUNTA**\n",
        "\n",
        "3. Usa Leave One Out para ver el accuracy y la desviación típica que se obtiene"
      ],
      "metadata": {
        "id": "Byao-UCg_jQN"
      }
    },
    {
      "cell_type": "code",
      "source": [
        "from sklearn.model_selection import cross_val_score, LeaveOneOut\n",
        "# Defino el modelo\n",
        "leave_validation = LeaveOneOut()\n",
        "scores = cross_val_score(model, X, y, cv= leave_validation)\n",
        "\n",
        "# Calculo del Accuracy y Desv. tipica\n",
        "accuracy = np.mean(scores)\n",
        "std_desviation = np.std(scores)\n",
        "\n",
        "# Visualizo los datos\n",
        "print(f\"Accuracy: {accuracy:.4f}\")\n",
        "print(f\"Desviacion estandar: {std_desviation:.4f}\")"
      ],
      "metadata": {
        "id": "eJWN3wAH_Crb",
        "colab": {
          "base_uri": "https://localhost:8080/"
        },
        "outputId": "0bc099ef-07b3-4872-ddfd-01dffbaef056"
      },
      "execution_count": 32,
      "outputs": [
        {
          "output_type": "stream",
          "name": "stdout",
          "text": [
            "Accuracy: 0.9525\n",
            "Desviacion estandar: 0.2126\n"
          ]
        }
      ]
    },
    {
      "cell_type": "markdown",
      "source": [
        "**PREGUNTA**\n",
        "\n",
        "4. Reserva un 20% de los datos para realizar el test final.\n",
        "5. Utiliza Exhaustive Grid Search sobre el 80% de entrenamiento para buscar los parámetros óptimos para accuracy y recall en LinearRegression. Prueba con penalty 'l2' o 'none', los valores de C [0.001, 0.01, 0.1, 1, 10, 100, 1000] y todos los solvers disponibles.\n",
        "6. Calcula las métricas accuracy y recall con los datos de test y los valores óptimos calculados en el punto anterior."
      ],
      "metadata": {
        "id": "qTDRFq8IE76y"
      }
    },
    {
      "cell_type": "code",
      "source": [
        "from sklearn import datasets\n",
        "from sklearn.model_selection import train_test_split, validation_curve\n",
        "from sklearn.model_selection import GridSearchCV\n",
        "from sklearn.svm import SVC\n",
        "from sklearn.pipeline import make_pipeline\n",
        "\n",
        "data = load_breast_cancer(as_frame = True)\n",
        "df = data.frame\n",
        "X = df.drop('target', axis=1)\n",
        "y = df['target']\n",
        "# Separo los datos en entrenamiento y prueba y reservo el 20% para test\n",
        "X_train, X_test, y_train, y_test = train_test_split(X, y, test_size=0.2, random_state=42)\n",
        "\n",
        "# Defino los parametros para la busqueda exhaustiva\n",
        "parameters = {'C': [0.001, 0.01, 0.1, 1, 10, 100, 1000],\n",
        "              'solver': ['newton-cg', 'lbfgs', 'liblinear', 'sag', 'saga']}\n",
        "\n",
        "scores = ['accuracy', 'recall_macro']\n",
        "import sklearn\n",
        "print('métricas disponibles para Grid Search')\n",
        "sorted(sklearn.metrics.SCORERS.keys())"
      ],
      "metadata": {
        "id": "EEkvx_mtMN81",
        "colab": {
          "base_uri": "https://localhost:8080/"
        },
        "outputId": "12f74043-df16-4fd9-f37a-3669d3a52eed"
      },
      "execution_count": 33,
      "outputs": [
        {
          "output_type": "stream",
          "name": "stdout",
          "text": [
            "métricas disponibles para Grid Search\n"
          ]
        },
        {
          "output_type": "execute_result",
          "data": {
            "text/plain": [
              "['accuracy',\n",
              " 'adjusted_mutual_info_score',\n",
              " 'adjusted_rand_score',\n",
              " 'average_precision',\n",
              " 'balanced_accuracy',\n",
              " 'completeness_score',\n",
              " 'explained_variance',\n",
              " 'f1',\n",
              " 'f1_macro',\n",
              " 'f1_micro',\n",
              " 'f1_samples',\n",
              " 'f1_weighted',\n",
              " 'fowlkes_mallows_score',\n",
              " 'homogeneity_score',\n",
              " 'jaccard',\n",
              " 'jaccard_macro',\n",
              " 'jaccard_micro',\n",
              " 'jaccard_samples',\n",
              " 'jaccard_weighted',\n",
              " 'matthews_corrcoef',\n",
              " 'max_error',\n",
              " 'mutual_info_score',\n",
              " 'neg_brier_score',\n",
              " 'neg_log_loss',\n",
              " 'neg_mean_absolute_error',\n",
              " 'neg_mean_absolute_percentage_error',\n",
              " 'neg_mean_gamma_deviance',\n",
              " 'neg_mean_poisson_deviance',\n",
              " 'neg_mean_squared_error',\n",
              " 'neg_mean_squared_log_error',\n",
              " 'neg_median_absolute_error',\n",
              " 'neg_negative_likelihood_ratio',\n",
              " 'neg_root_mean_squared_error',\n",
              " 'normalized_mutual_info_score',\n",
              " 'positive_likelihood_ratio',\n",
              " 'precision',\n",
              " 'precision_macro',\n",
              " 'precision_micro',\n",
              " 'precision_samples',\n",
              " 'precision_weighted',\n",
              " 'r2',\n",
              " 'rand_score',\n",
              " 'recall',\n",
              " 'recall_macro',\n",
              " 'recall_micro',\n",
              " 'recall_samples',\n",
              " 'recall_weighted',\n",
              " 'roc_auc',\n",
              " 'roc_auc_ovo',\n",
              " 'roc_auc_ovo_weighted',\n",
              " 'roc_auc_ovr',\n",
              " 'roc_auc_ovr_weighted',\n",
              " 'top_k_accuracy',\n",
              " 'v_measure_score']"
            ]
          },
          "metadata": {},
          "execution_count": 33
        }
      ]
    },
    {
      "cell_type": "code",
      "source": [
        "import warnings\n",
        "warnings.filterwarnings('ignore')\n",
        "\n",
        "for score in scores:\n",
        "  print('Metrica a optimizar: %s' % score )\n",
        "  print()\n",
        "\n",
        "  clf = GridSearchCV(LogisticRegression(penalty= 'l2'), parameters, scoring=score)\n",
        "  clf.fit(X_train, y_train)\n",
        "\n",
        "  print(\"Hiperparamétros óptimos: \")\n",
        "  print()\n",
        "  print(clf.best_params_)\n",
        "  print(\"Valores de la métrica: \", scores, \"que han dado las distintas iteraciones\")\n",
        "  print()\n",
        "  means = clf.cv_results_['mean_test_score']\n",
        "  stds = clf.cv_results_['std_test_score']"
      ],
      "metadata": {
        "colab": {
          "base_uri": "https://localhost:8080/"
        },
        "id": "r1PYfKx7cooC",
        "outputId": "49013236-ad4d-4bf5-bb3d-58838d25aff1"
      },
      "execution_count": 34,
      "outputs": [
        {
          "output_type": "stream",
          "name": "stdout",
          "text": [
            "Metrica a optimizar: accuracy\n",
            "\n",
            "Hiperparamétros óptimos: \n",
            "\n",
            "{'C': 100, 'solver': 'newton-cg'}\n",
            "Valores de la métrica:  ['accuracy', 'recall_macro'] que han dado las distintas iteraciones\n",
            "\n",
            "Metrica a optimizar: recall_macro\n",
            "\n",
            "Hiperparamétros óptimos: \n",
            "\n",
            "{'C': 100, 'solver': 'newton-cg'}\n",
            "Valores de la métrica:  ['accuracy', 'recall_macro'] que han dado las distintas iteraciones\n",
            "\n"
          ]
        }
      ]
    },
    {
      "cell_type": "markdown",
      "source": [
        "**PREGUNTA**\n",
        "\n",
        "7. Plotea la curva de validación para el accuracy de los distintos solvers del ejemplo anterior. Puedes ver un ejemplo aquí para dibujar el gráfico:\n",
        "\n",
        "> https://vitalflux.com/validation-curves-explained-python-sklearn-example/\n",
        "\n",
        "\n"
      ],
      "metadata": {
        "id": "tBQfJkU4OPKj"
      }
    },
    {
      "cell_type": "code",
      "source": [
        "solvers = ['newton-cg', 'lbfgs', 'liblinear', 'sag', 'saga']"
      ],
      "metadata": {
        "id": "gSctt-UaDP6T"
      },
      "execution_count": 35,
      "outputs": []
    },
    {
      "cell_type": "code",
      "source": [
        "from sklearn.preprocessing import StandardScaler\n",
        "\n",
        "pipeline = make_pipeline( LogisticRegression( solver = solvers , penalty = 'l2', max_iter=10000, random_state=42))\n",
        "\n",
        "train_scores, test_scores = validation_curve(estimator=pipeline,\n",
        "                                             X=X_train, y=y_train,\n",
        "                                             param_name='logisticregression__solver', param_range=solvers, scoring = 'accuracy')\n",
        "\n",
        "train_mean = np.mean(train_scores, axis=1)\n",
        "test_mean = np.mean(test_scores, axis=1)\n",
        "plt.plot(solvers, train_mean,\n",
        "         marker='o', markersize=5,\n",
        "         color='blue', label='Training Accuracy')\n",
        "plt.plot(solvers, test_mean,\n",
        "         marker='o', markersize=5,\n",
        "         color='green', label='Validation Accuracy')\n",
        "plt.xlabel('Solver')\n",
        "plt.ylabel('Accuracy')\n",
        "plt.title('Validation Curve for Different Solvers')\n",
        "plt.legend()\n",
        "plt.grid()\n",
        "plt.show()\n"
      ],
      "metadata": {
        "id": "GYY3Pi45Ph_a",
        "colab": {
          "base_uri": "https://localhost:8080/",
          "height": 472
        },
        "outputId": "594dcb19-c2c5-4207-98cf-7c3d9c0a777b"
      },
      "execution_count": 36,
      "outputs": [
        {
          "output_type": "display_data",
          "data": {
            "text/plain": [
              "<Figure size 640x480 with 1 Axes>"
            ],
            "image/png": "[encoded data removed]"
          },
          "metadata": {}
        }
      ]
    }
  ]
}