{
  "nbformat": 4,
  "nbformat_minor": 0,
  "metadata": {
    "colab": {
      "provenance": []
    },
    "kernelspec": {
      "name": "python3",
      "display_name": "Python 3"
    },
    "language_info": {
      "name": "python"
    }
  },
  "cells": [
    {
      "cell_type": "markdown",
      "metadata": {
        "id": "N4knqaNLGNfw"
      },
      "source": [
        "https://www.kaggle.com/ronitf/heart-disease-uci\n",
        "\n",
        "https://www.kaggle.com/datasets/redwankarimsony/heart-disease-data"
      ]
    },
    {
      "cell_type": "code",
      "metadata": {
        "id": "8WLdU59yCSay"
      },
      "source": [
        "import pandas as pd"
      ],
      "execution_count": 76,
      "outputs": []
    },
    {
      "cell_type": "code",
      "metadata": {
        "id": "QJbZ1wQRBmJ-"
      },
      "source": [
        "df1 = pd.read_csv('heart.csv')\n"
      ],
      "execution_count": 77,
      "outputs": []
    },
    {
      "cell_type": "code",
      "metadata": {
        "id": "c9SMkfBGgPa4"
      },
      "source": [
        "target = df1['target']\n",
        "X = df1.drop(['target'], axis = 1)"
      ],
      "execution_count": 78,
      "outputs": []
    },
    {
      "cell_type": "markdown",
      "metadata": {
        "id": "f4YMwLkC_y3j"
      },
      "source": [
        "Estandarizamos"
      ]
    },
    {
      "cell_type": "code",
      "source": [
        "from sklearn.model_selection import train_test_split\n",
        "import numpy as np\n",
        "from sklearn.cluster import DBSCAN\n",
        "from sklearn import metrics\n",
        "from sklearn.datasets import make_blobs\n",
        "from sklearn.preprocessing import StandardScaler"
      ],
      "metadata": {
        "id": "aun-nkAd3VvU"
      },
      "execution_count": 79,
      "outputs": []
    },
    {
      "cell_type": "code",
      "metadata": {
        "id": "SptB_5qqIZpq"
      },
      "source": [
        "X_train, X_test, y_train, y_test = train_test_split(X, target, train_size=0.7, random_state=42)"
      ],
      "execution_count": 80,
      "outputs": []
    },
    {
      "cell_type": "code",
      "metadata": {
        "id": "LE7bATVw_GEb"
      },
      "source": [
        "from sklearn import preprocessing\n",
        "scaler = preprocessing.StandardScaler().fit(X_train)\n",
        "X_train_std = scaler.transform(X_train)\n",
        "X_test_std = scaler.transform(X_test)"
      ],
      "execution_count": 81,
      "outputs": []
    },
    {
      "cell_type": "markdown",
      "metadata": {
        "id": "talDkYFUl97P"
      },
      "source": [
        "**PREGUNTA**\n",
        "\n",
        "1. Calcula la exactitud (Accuracy) para un modelo árbol de decisión, SVM y Regresión logística"
      ]
    },
    {
      "cell_type": "code",
      "source": [
        "from sklearn.tree import DecisionTreeClassifier\n",
        "from sklearn.svm import SVC\n",
        "from sklearn.linear_model import LogisticRegression\n",
        "from sklearn.metrics import accuracy_score\n",
        "from sklearn.model_selection import train_test_split\n",
        "from sklearn.preprocessing import StandardScaler\n",
        "import numpy as np"
      ],
      "metadata": {
        "id": "S8X7K-Jp5XDB"
      },
      "execution_count": 82,
      "outputs": []
    },
    {
      "cell_type": "code",
      "metadata": {
        "id": "LuiwXLIN5jux",
        "colab": {
          "base_uri": "https://localhost:8080/"
        },
        "outputId": "60773a15-987a-40b3-ee7d-02431525c633"
      },
      "source": [
        "# Modelo de arbol de decision\n",
        "tree_model = DecisionTreeClassifier(random_state=42)\n",
        "tree_model.fit(X_train_std, y_train)\n",
        "y_pred_tree = tree_model.predict(X_test_std)\n",
        "accuracy_tree = accuracy_score(y_test, y_pred_tree)\n",
        "print(f'La excatitud para el modelo de arbol de decisión es: {accuracy_tree}')"
      ],
      "execution_count": 83,
      "outputs": [
        {
          "output_type": "stream",
          "name": "stdout",
          "text": [
            "La excatitud para el modelo de arbol de decisión es: 0.7362637362637363\n"
          ]
        }
      ]
    },
    {
      "cell_type": "code",
      "source": [
        "# Modelo SVM\n",
        "svm_model = SVC(random_state= 42)\n",
        "svm_model.fit(X_train_std, y_train)\n",
        "y_pred_svm = svm_model.predict(X_test_std)\n",
        "accuracy_svm = accuracy_score(y_test, y_pred_svm)\n",
        "print(f'La exactitud del modelo SVM es: {accuracy_svm}')"
      ],
      "metadata": {
        "colab": {
          "base_uri": "https://localhost:8080/"
        },
        "id": "LpoFfDL56ntP",
        "outputId": "c1d32bcf-0120-4087-d571-ce7af464c936"
      },
      "execution_count": 84,
      "outputs": [
        {
          "output_type": "stream",
          "name": "stdout",
          "text": [
            "La exactitud del modelo SVM es: 0.8241758241758241\n"
          ]
        }
      ]
    },
    {
      "cell_type": "code",
      "source": [
        "#Modelo de regresion logistica\n",
        "logistic_model = LogisticRegression(random_state=42)\n",
        "logistic_model.fit(X_train_std, y_train)\n",
        "y_pred_logistic = logistic_model.predict(X_test_std)\n",
        "accuracy_logistic = accuracy_score(y_test, y_pred_logistic)\n",
        "print(f'La excatitud del modelo de regresión logistica es: {accuracy_logistic}')"
      ],
      "metadata": {
        "colab": {
          "base_uri": "https://localhost:8080/"
        },
        "id": "LjP_jYbS7ih3",
        "outputId": "652356fa-666a-4112-cd9e-96d290519035"
      },
      "execution_count": 85,
      "outputs": [
        {
          "output_type": "stream",
          "name": "stdout",
          "text": [
            "La excatitud del modelo de regresión logistica es: 0.8131868131868132\n"
          ]
        }
      ]
    },
    {
      "cell_type": "markdown",
      "metadata": {
        "id": "Ub_Az5vGKb9L"
      },
      "source": [
        "**PREGUNTA**\n",
        "\n",
        "2. ¿Cómo de seguro puede estar un paciente al que le hemos predicho problema de corazón? (TP) respecto el total de los que hemos estimado que lo tienen (TP+FP)?\n",
        "\n",
        "3. ¿Cómo se llama esta métrica?"
      ]
    },
    {
      "cell_type": "code",
      "source": [
        "from sklearn.metrics import precision_score\n",
        "precision_tree = precision_score(y_test, y_pred_tree)\n",
        "print(f'Precisión del modelo de arbol de decisión: {precision_tree}')"
      ],
      "metadata": {
        "colab": {
          "base_uri": "https://localhost:8080/"
        },
        "id": "oIvTxAZk_4Z0",
        "outputId": "0304281e-c08f-40ea-dbcd-22912aa9ea93"
      },
      "execution_count": 86,
      "outputs": [
        {
          "output_type": "stream",
          "name": "stdout",
          "text": [
            "Precisión del modelo de arbol de decisión: 0.7954545454545454\n"
          ]
        }
      ]
    },
    {
      "cell_type": "code",
      "source": [
        "from sklearn.metrics import precision_score\n",
        "precision_svm = precision_score(y_test, y_pred_svm)\n",
        "print(f'Precisión del modelo SVM es: {precision_svm}')"
      ],
      "metadata": {
        "colab": {
          "base_uri": "https://localhost:8080/"
        },
        "id": "LZH6HxnH_nzj",
        "outputId": "a1bd7ab7-4e36-4571-9e36-4603703fa45b"
      },
      "execution_count": 87,
      "outputs": [
        {
          "output_type": "stream",
          "name": "stdout",
          "text": [
            "Precisión del modelo SVM es: 0.84\n"
          ]
        }
      ]
    },
    {
      "cell_type": "code",
      "metadata": {
        "id": "hI5fi8VAqDGw",
        "colab": {
          "base_uri": "https://localhost:8080/"
        },
        "outputId": "e4706293-b4f4-48d5-94b6-eebd61790430"
      },
      "source": [
        "from sklearn.metrics import precision_score\n",
        "precision_logistic = precision_score(y_test, y_pred_logistic)\n",
        "print(f'Precisión del modelo de Regresión Logística es: {precision_logistic}')"
      ],
      "execution_count": 88,
      "outputs": [
        {
          "output_type": "stream",
          "name": "stdout",
          "text": [
            "Precisión del modelo de Regresión Logística es: 0.8235294117647058\n"
          ]
        }
      ]
    },
    {
      "cell_type": "markdown",
      "source": [
        "La metrica se llama **precisión** y se refiere a la proporción de predicciones positivas correctas (casos positivos correctamente identificados) entre todas las predicciones positivas realizadas por el modelo.\n",
        "\n",
        "Entonces, para cada modelo:\n",
        "\n",
        "Para el modelo de Árbol de Decisión, aproximadamente el 79.55% de los pacientes a los que se les predijo un problema cardíaco realmente lo tenían.\n",
        "Para el modelo SVM, aproximadamente el 84% de los pacientes a los que se les predijo un problema cardíaco realmente lo tenían.\n",
        "Para el modelo de Regresión Logística, aproximadamente el 82.35% de los pacientes a los que se les predijo un problema cardíaco realmente lo tenían.\n",
        "\n",
        "Estos valores indican la \"seguridad\" o precisión en las predicciones positivas de cada modelo."
      ],
      "metadata": {
        "id": "C1X0tM2wBM00"
      }
    },
    {
      "cell_type": "markdown",
      "metadata": {
        "id": "vSSalb9qKdVG"
      },
      "source": [
        "**PREGUNTA**\n",
        "\n",
        "4. ¿Cómo de buenas son nuestras predicciones para detectar problemas de corazón? cuántos pacientes hemos estimado que tienen problemas de corazón correctamente (TP) de entre todos los que realmente tienen problema de corazón (TP + FN)? -> **NOS INTERESA**\n",
        "\n",
        "5. ¿Cómo se llama esta métrica?"
      ]
    },
    {
      "cell_type": "code",
      "metadata": {
        "id": "CCfmFnS35kPo",
        "colab": {
          "base_uri": "https://localhost:8080/"
        },
        "outputId": "bf476def-b596-4aee-dc3b-49d6e9e952b0"
      },
      "source": [
        "from sklearn.metrics import recall_score\n",
        "recall_tree = recall_score(y_test, y_pred_tree)\n",
        "print(f'La sensibilidad del modelo de arbol de decision es: {recall_tree}')"
      ],
      "execution_count": 89,
      "outputs": [
        {
          "output_type": "stream",
          "name": "stdout",
          "text": [
            "La sensibilidad del modelo de arbol de decision es: 0.7\n"
          ]
        }
      ]
    },
    {
      "cell_type": "code",
      "source": [
        "recall_svm = recall_score(y_test, y_pred_svm)\n",
        "print(f'La sensibilidad del modelo SVM es: {recall_svm}')"
      ],
      "metadata": {
        "colab": {
          "base_uri": "https://localhost:8080/"
        },
        "id": "QynIaegRDOmw",
        "outputId": "1fdc9854-92f3-4f18-99d6-fa6fa1f3609c"
      },
      "execution_count": 90,
      "outputs": [
        {
          "output_type": "stream",
          "name": "stdout",
          "text": [
            "La sensibilidad del modelo SVM es: 0.84\n"
          ]
        }
      ]
    },
    {
      "cell_type": "code",
      "source": [
        "recall_logistic = recall_score(y_test, y_pred_logistic)\n",
        "print(f'La sensibilidad del modelo de regresión logistica es: {recall_logistic}')"
      ],
      "metadata": {
        "colab": {
          "base_uri": "https://localhost:8080/"
        },
        "id": "JyPOns5ADObY",
        "outputId": "52cbd22d-2d9b-4e89-fdf4-ac4fde6ca995"
      },
      "execution_count": 91,
      "outputs": [
        {
          "output_type": "stream",
          "name": "stdout",
          "text": [
            "La sensibilidad del modelo de regresión logistica es: 0.84\n"
          ]
        }
      ]
    },
    {
      "cell_type": "markdown",
      "source": [
        "Si los errores causados por los falsos negativos (FN) son más indeseables, se prioriza la sensibilidad (recall). Esto es importante cuando la omisión de un caso positivo tiene consecuencias graves, como en la detección de enfermedades críticas.\n",
        "La metrica se llama **Sensibilidad** (Recall) y proporciona información sobre la proporción de paciente con problemas cardiacos que el modelo ha identificado correctamente en comparación con el total de pacientes con problemas cardiacos.\n",
        "Para el modelo de Árbol de Decisión, la sensibilidad es 0.7, lo que significa que el 70% de los pacientes con problemas cardíacos fueron identificados correctamente por el modelo.\n",
        "Para el modelo SVM y el modelo de Regresión Logística, la sensibilidad es 0.84, lo que significa que el 84% de los pacientes con problemas cardíacos fueron identificados correctamente por estos modelos.\n",
        "En resumen, la sensibilidad es una medida importante para evaluar la capacidad del modelo para detectar positivos en problemas de clasificación desequilibrados, como el diagnóstico médico."
      ],
      "metadata": {
        "id": "7j8ZAcUYEGFf"
      }
    },
    {
      "cell_type": "markdown",
      "metadata": {
        "id": "r5FmjWG54B-B"
      },
      "source": [
        "**PREGUNTA**\n",
        "\n",
        "6. Calcula el F1-Score de los 3 modelos"
      ]
    },
    {
      "cell_type": "code",
      "metadata": {
        "id": "c7S8l5XE5k1x",
        "colab": {
          "base_uri": "https://localhost:8080/"
        },
        "outputId": "610ff9ea-84f1-4c5c-f5d9-487270a6948e"
      },
      "source": [
        "from sklearn.metrics import f1_score\n",
        "f1_tree = f1_score(y_test, y_pred_tree)\n",
        "print(f'El F1 Score del modelo de arbol de decision es: {f1_tree}')"
      ],
      "execution_count": 92,
      "outputs": [
        {
          "output_type": "stream",
          "name": "stdout",
          "text": [
            "El F1 Score del modelo de arbol de decision es: 0.7446808510638298\n"
          ]
        }
      ]
    },
    {
      "cell_type": "code",
      "source": [
        "f1_svm = f1_score(y_test, y_pred_svm)\n",
        "print(f'El F1 Score del modelo SVM es: {f1_svm}')"
      ],
      "metadata": {
        "colab": {
          "base_uri": "https://localhost:8080/"
        },
        "id": "KsWXmGGYHDl-",
        "outputId": "c261ba01-b87e-47de-9595-eb39470dbc9e"
      },
      "execution_count": 93,
      "outputs": [
        {
          "output_type": "stream",
          "name": "stdout",
          "text": [
            "El F1 Score del modelo SVM es: 0.8399999999999999\n"
          ]
        }
      ]
    },
    {
      "cell_type": "code",
      "source": [
        "f1_logistic = f1_score(y_test, y_pred_logistic)\n",
        "print(f'El F1 Score del modelo de regresión logistica es: {f1_logistic}')"
      ],
      "metadata": {
        "colab": {
          "base_uri": "https://localhost:8080/"
        },
        "id": "9ur0AdNvHPNe",
        "outputId": "5fb1172b-e630-4428-b9e6-b5651b2f9a18"
      },
      "execution_count": 94,
      "outputs": [
        {
          "output_type": "stream",
          "name": "stdout",
          "text": [
            "El F1 Score del modelo de regresión logistica es: 0.8316831683168315\n"
          ]
        }
      ]
    },
    {
      "cell_type": "markdown",
      "metadata": {
        "id": "nnpoZ3N5fAZ4"
      },
      "source": [
        "**PREGUNTA**\n",
        "\n",
        "7. Si lo que nos interesa es acertar bien los que tienen problemas de corazón, aunque detectemos algunos que no lo sean. (De esta manera evitamos que aquellos que si que tienen problemas no los perdamos) ¿Qué métrica debemos analizar?\n"
      ]
    },
    {
      "cell_type": "markdown",
      "source": [
        " Si el enfoque principal es asegurarse de identificar correctamente a todos los pacientes que realmente tienen problemas cardíacos (minimizar los falsos negativos), la métrica clave a analizar sería la sensibilidad (recall). Esta metrica se centra en la proporción de casos positivos que el modelo logra capturar correctamente en comparación con el total de casos positivos reales. Es decir, mide cuantos de los pacientes con problemas de corazón se han identificado correctamente.\n",
        " En definitiva, maximizar la sensibilidad es especialmente importante en situaciones en las que es crítico no perder a ningún paciente con problemas de corazón, incluso a costa de tener algunos falsos positivos."
      ],
      "metadata": {
        "id": "G671uBeeI6Dp"
      }
    },
    {
      "cell_type": "markdown",
      "metadata": {
        "id": "3ATvnsNSwxR1"
      },
      "source": [
        "**PREGUNTA**\n",
        "\n",
        "8. ¿Qué algoritmo es mejor independientemente de la métrica y umbral (Área bajo la curva) AUC?"
      ]
    },
    {
      "cell_type": "markdown",
      "source": [
        "El Área bajo la Curva ROC (AUC-ROC) es una métrica que se utiliza comúnmente para evaluar y comparar modelos de clasificación independientemente del umbral de clasificación. AUC-ROC evalúa el rendimiento del modelo a lo largo de todos los posibles umbrales de clasificación, proporcionando una medida agregada de la capacidad del modelo para discriminar entre clases.\n",
        "\n",
        "Podemos decir:\n",
        "AUC-ROC cercano a 1.0: Indica un buen rendimiento del modelo, ya que significa que el modelo tiene una buena tasa de verdaderos positivos y una baja tasa de falsos positivos, independientemente del umbral de clasificación.\n",
        "AUC-ROC cercano a 0.5: Indica que el modelo tiene un rendimiento similar al azar.\n",
        "\n",
        "En resumen, un mayor AUC-ROC generalmente sugiere un mejor rendimiento del modelo en términos de capacidad discriminativa."
      ],
      "metadata": {
        "id": "69aWER6fLhBa"
      }
    },
    {
      "cell_type": "code",
      "metadata": {
        "id": "5MntenCreycb"
      },
      "source": [
        "# Calculo del y_pred_prob de cada modelo (posibilidades predichas)\n",
        "# Modelo de regresión logistica\n",
        "y_pred_prob_logistic = logistic_model.predict_proba(X_test_std)[:, 1]  # Probabilidad de la clase positiva\n",
        "# Modelo de SVM\n",
        "y_pred_prob_svm = svm_model.decision_function(X_test_std)\n",
        "# Modelo de Arbol de decisión\n",
        "y_pred_prob_tree = tree_model.predict_proba(X_test_std)[:, 1]  # Probabilidad de la clase positiva"
      ],
      "execution_count": 95,
      "outputs": []
    },
    {
      "cell_type": "code",
      "source": [
        "from sklearn.metrics import roc_auc_score\n",
        "\n",
        "auc_tree = roc_auc_score(y_test, y_pred_prob_tree)\n",
        "print(f'Área bajo la Curva ROC (AUC-ROC) para el modelo arbol de decision es: {auc_tree}')\n",
        "auc_svm = roc_auc_score(y_test, y_pred_prob_svm)\n",
        "print(f'Área bajo la Curva ROC (AUC-ROC) para el modelo SVM es: {auc_svm}')\n",
        "auc_logistic = roc_auc_score(y_test, y_pred_prob_logistic)\n",
        "print(f'Área bajo la Curva ROC (AUC-ROC) para el modelo de regresión logistica: {auc_logistic}')\n"
      ],
      "metadata": {
        "colab": {
          "base_uri": "https://localhost:8080/"
        },
        "id": "JdvwcWD6NXFi",
        "outputId": "e2857df8-d34e-4439-a460-a81dac7754dc"
      },
      "execution_count": 96,
      "outputs": [
        {
          "output_type": "stream",
          "name": "stdout",
          "text": [
            "Área bajo la Curva ROC (AUC-ROC) para el modelo arbol de decision es: 0.7402439024390244\n",
            "Área bajo la Curva ROC (AUC-ROC) para el modelo SVM es: 0.8853658536585366\n",
            "Área bajo la Curva ROC (AUC-ROC) para el modelo de regresión logistica: 0.8824390243902439\n"
          ]
        }
      ]
    },
    {
      "cell_type": "markdown",
      "source": [
        "En general, un AUC-ROC más cercano a 1.0 indica un mejor rendimiento del modelo en la tarea de clasificación. Los resultados sugieren que tanto el modelo SVM como el modelo de Regresión Logística son fuertes en la discriminación entre las clases en comparación con el Árbol de Decisión.\n",
        "\n",
        "El AUC-ROC es una métrica útil para evaluar el rendimiento global del modelo, especialmente cuando estás interesado en su capacidad para discriminar entre clases."
      ],
      "metadata": {
        "id": "MjUrNg-IPZUJ"
      }
    },
    {
      "cell_type": "markdown",
      "metadata": {
        "id": "kcSg0nOdyd0v"
      },
      "source": [
        "**PREGUNTA**\n",
        "\n",
        "9. Plotea las curvas ROC de los tres modelos\n",
        "\n",
        "10. ¿Cuál elegirías si no quieres que se escape ningún positivo?\n",
        "\n",
        "11. ¿Qué umbral elegirías para que no se escape ningún positivo?\n",
        "\n",
        "12. ¿Qué umbral seleccionarías para optimizar ambos valores? (Maximizar TPR y minimizar FPR)"
      ]
    },
    {
      "cell_type": "markdown",
      "source": [
        "9. Plotea las curvas ROC de los tres modelos"
      ],
      "metadata": {
        "id": "x-NGtyW8cXXp"
      }
    },
    {
      "cell_type": "code",
      "source": [
        "import matplotlib.pyplot as plt\n",
        "from sklearn.metrics import roc_curve, roc_auc_score, auc\n",
        "%matplotlib inline\n",
        "\n",
        "# # fpr_ tasas falsos positivos y tpr_ tasas de verdaderos positivos\n",
        "\n",
        "# Calcular las curvas ROC y AUC para cada modelo\n",
        "fpr_logistic, tpr_logistic, thresholds_logistic = roc_curve(y_test, y_pred_prob_logistic)\n",
        "roc_auc_logistic = auc(fpr_logistic, tpr_logistic)\n",
        "\n",
        "fpr_svm, tpr_svm, thresholds_svm = roc_curve(y_test, y_pred_prob_svm)\n",
        "roc_auc_svm = auc(fpr_svm, tpr_svm)\n",
        "\n",
        "fpr_tree, tpr_tree, thresholds_tree = roc_curve(y_test, y_pred_prob_tree)\n",
        "roc_auc_tree = auc(fpr_tree, tpr_tree)\n",
        "\n",
        "# Graficar las curvas ROC\n",
        "plt.figure(figsize=(10, 10))\n",
        "\n",
        "# Curva ROC para Regresión Logística\n",
        "plt.plot(fpr_logistic, tpr_logistic, color='blue', lw=2, label=f'Regresión Logística (AUC = {roc_auc_logistic:.2f})')\n",
        "\n",
        "# Curva ROC para SVM\n",
        "plt.plot(fpr_svm, tpr_svm, color='green', lw=2, label=f'SVM (AUC = {roc_auc_svm:.2f})')\n",
        "\n",
        "# Curva ROC para Árbol de Decisión\n",
        "plt.plot(fpr_tree, tpr_tree, color='red', lw=2, label=f'Árbol de Decisión (AUC = {roc_auc_tree:.2f})')\n",
        "\n",
        "# Línea de referencia\n",
        "plt.plot([0, 1], [0, 1], color='gray', lw=1, linestyle='--')\n",
        "\n",
        "plt.xlim([0.0, 1.0])\n",
        "plt.ylim([0.0, 1.05])\n",
        "plt.xlabel('Tasa de Falsos Positivos (FPR)')\n",
        "plt.ylabel('Tasa de Verdaderos Positivos (TPR)')\n",
        "plt.title('Curvas ROC de los Modelos')\n",
        "plt.legend(loc=\"lower right\")\n",
        "plt.show()\n"
      ],
      "metadata": {
        "colab": {
          "base_uri": "https://localhost:8080/",
          "height": 872
        },
        "id": "TstrFgqeTxAu",
        "outputId": "fe9725dc-f6df-4dbc-d3b2-ee3260d265d7"
      },
      "execution_count": 97,
      "outputs": [
        {
          "output_type": "display_data",
          "data": {
            "text/plain": [
              "<Figure size 1000x1000 with 1 Axes>"
            ],
            "image/png": "[encoded data removed]"
          },
          "metadata": {}
        }
      ]
    },
    {
      "cell_type": "markdown",
      "source": [
        "**10. ¿Cuál elegirías si no quieres que se escape ningún positivo?**\n",
        "\n",
        "Para maximizar la sensibilidad o tasa de verdaderos positivos (TPR) y evitar que se escape ningún positivo (falsos negativos mínimos), se debe seleccionar el modelo que tenga la curva ROC más cercana al rincón superior izquierdo y, por lo tanto, el Área bajo la Curva ROC (AUC-ROC) más alto.\n",
        "\n",
        "Según los resultados obtenidos:\n",
        "Área bajo la Curva ROC (AUC-ROC) para el modelo de Árbol de Decisión es: 0.7402\n",
        "Área bajo la Curva ROC (AUC-ROC) para el modelo SVM es: 0.8854\n",
        "Área bajo la Curva ROC (AUC-ROC) para el modelo de Regresión Logística: 0.8824\n",
        "\n",
        "El modelo SVM tiene el AUC-ROC más alto (0.8854), lo que sugiere un mejor rendimiento en la discriminación entre las clases. Por lo tanto, en términos de maximizar la sensibilidad y evitar falsos negativos, elegiría el modelo SVM.\n",
        "\n",
        "En resumen, este modelo tiene una mayor capacidad para clasificar correctamente los casos positivos en comparación con los otros dos modelos evaluados"
      ],
      "metadata": {
        "id": "fMpRgkzzUTMi"
      }
    },
    {
      "cell_type": "markdown",
      "source": [
        "11.¿Qué umbral elegirías para que no se escape ningún positivo?"
      ],
      "metadata": {
        "id": "QF2fppfcWKUh"
      }
    },
    {
      "cell_type": "code",
      "source": [
        "# Encontrar el índice del umbral que maximiza la sensibilidad\n",
        "best_threshold_index_svm = np.argmax(tpr_svm - fpr_svm)\n",
        "# Obtener el umbral correspondiente\n",
        "best_threshold_svm = thresholds_svm[best_threshold_index_svm]\n",
        "print(f\"Umbral óptimo para maximizar sensibilidad en SVM: {best_threshold_svm}\")\n"
      ],
      "metadata": {
        "colab": {
          "base_uri": "https://localhost:8080/"
        },
        "id": "lDV7azRmVzl3",
        "outputId": "078428f7-aa0b-4417-ab50-26e160df54cb"
      },
      "execution_count": 98,
      "outputs": [
        {
          "output_type": "stream",
          "name": "stdout",
          "text": [
            "Umbral óptimo para maximizar sensibilidad en SVM: 0.15051157341502736\n"
          ]
        }
      ]
    },
    {
      "cell_type": "code",
      "source": [
        "# Encontrar el índice del umbral que maximiza la sensibilidad\n",
        "best_threshold_index_logistic = np.argmax(tpr_logistic - fpr_logistic)\n",
        "# Obtener el umbral correspondiente\n",
        "best_threshold_logistic = thresholds_logistic[best_threshold_index_logistic]\n",
        "print(f\"Umbral óptimo para maximizar sensibilidad en regresión logistica: {best_threshold_logistic}\")\n"
      ],
      "metadata": {
        "colab": {
          "base_uri": "https://localhost:8080/"
        },
        "id": "Vm4a8L9sWVEN",
        "outputId": "65ef2211-0563-4f99-e26c-1dd2499bd5ad"
      },
      "execution_count": 99,
      "outputs": [
        {
          "output_type": "stream",
          "name": "stdout",
          "text": [
            "Umbral óptimo para maximizar sensibilidad en regresión logistica: 0.29003080168623135\n"
          ]
        }
      ]
    },
    {
      "cell_type": "code",
      "source": [
        "# Encontrar el índice del umbral que maximiza la sensibilidad\n",
        "best_threshold_index_tree = np.argmax(tpr_tree - fpr_tree)\n",
        "# Obtener el umbral correspondiente\n",
        "best_threshold_tree = thresholds_tree[best_threshold_index_tree]\n",
        "print(f\"Umbral óptimo para maximizar sensibilidad en arbol de decision: {best_threshold_tree}\")"
      ],
      "metadata": {
        "colab": {
          "base_uri": "https://localhost:8080/"
        },
        "id": "Z-aTfuczXAT-",
        "outputId": "60ebbe8e-4e92-4b53-f41f-ba15e3d37d58"
      },
      "execution_count": 100,
      "outputs": [
        {
          "output_type": "stream",
          "name": "stdout",
          "text": [
            "Umbral óptimo para maximizar sensibilidad en arbol de decision: 1.0\n"
          ]
        }
      ]
    },
    {
      "cell_type": "markdown",
      "source": [
        "En este caso, el umbral del modelo de Árbol de Decisión,tiene un umbral de 1.0, lo que significa que clasificará todas las instancias como positivas. Sin embargo, hay que tener en cuenta que esta elección también puede resultar en una mayor cantidad de falsos positivos, pero no aseguraríamos que no se nos escape ningún positivo.\n"
      ],
      "metadata": {
        "id": "ddMs05SsXtxZ"
      }
    },
    {
      "cell_type": "markdown",
      "source": [
        "12. ¿Qué umbral seleccionarías para optimizar ambos valores? (Maximizar TPR y minimizar FPR)"
      ],
      "metadata": {
        "id": "J5IsI63QYN2S"
      }
    },
    {
      "cell_type": "markdown",
      "source": [
        "Para optimizar ambos valores podemos usar la metrica llamada el indice de Youden o punto de operacion del clasificador. Esto busca máximizar la sensibilidad y minimizar la tasa de falsos positivos a la vez.\n",
        "Se calcula restando Tasa Verdaderos Positivos menos Tasa Falsos Positivos."
      ],
      "metadata": {
        "id": "omRktoJMYZ1A"
      }
    },
    {
      "cell_type": "code",
      "source": [
        "# Calcular el Índice de Youden para Regresión Logística\n",
        "youden_index_logistic = tpr_logistic[best_threshold_index_logistic] - fpr_logistic[best_threshold_index_logistic]\n",
        "print(f\"Índice de Youden para Regresión Logística: {youden_index_logistic}\")\n",
        "\n",
        "# Calcular el umbral para optimizar TPR y minimizar FPR en Regresión Logística\n",
        "best_threshold_index_logistic = np.argmin(tpr_logistic + (1 - fpr_logistic))\n",
        "best_threshold_logistic = thresholds_logistic[best_threshold_index_logistic]\n",
        "print(f\"Umbral para optimizar TPR y minimizar FPR en Regresión Logística: {best_threshold_logistic}\")\n"
      ],
      "metadata": {
        "colab": {
          "base_uri": "https://localhost:8080/"
        },
        "id": "z_o1vA8jZPjh",
        "outputId": "be883342-9f12-420e-82b6-6dd3e26c9684"
      },
      "execution_count": 101,
      "outputs": [
        {
          "output_type": "stream",
          "name": "stdout",
          "text": [
            "Índice de Youden para Regresión Logística: 0.7004878048780488\n",
            "Umbral para optimizar TPR y minimizar FPR en Regresión Logística: 1.9885594961002528\n"
          ]
        }
      ]
    },
    {
      "cell_type": "code",
      "source": [
        "# Calcular el Índice de Youden para SVM\n",
        "youden_index_svm = tpr_svm[best_threshold_index_svm] - fpr_svm[best_threshold_index_svm]\n",
        "print(f\"Índice de Youden para SVM: {youden_index_svm}\")\n",
        "\n",
        "best_threshold_index_svm = np.argmin(tpr_svm + (1 - fpr_svm))\n",
        "best_threshold_svm = thresholds_svm[best_threshold_index_svm]\n",
        "print(f\"Umbral para optimizar TPR y minimizar FPR en SVM: {best_threshold_svm}\")\n"
      ],
      "metadata": {
        "colab": {
          "base_uri": "https://localhost:8080/"
        },
        "id": "VbnDKw3sYSRa",
        "outputId": "1a84bee6-66a9-4733-b146-b15a927dd40b"
      },
      "execution_count": 102,
      "outputs": [
        {
          "output_type": "stream",
          "name": "stdout",
          "text": [
            "Índice de Youden para SVM: 0.6980487804878048\n",
            "Umbral para optimizar TPR y minimizar FPR en SVM: 2.694393022594955\n"
          ]
        }
      ]
    },
    {
      "cell_type": "code",
      "source": [
        "# Calcular el Índice de Youden para Árbol de Decisión\n",
        "youden_index_tree = tpr_tree[best_threshold_index_tree] - fpr_tree[best_threshold_index_tree]\n",
        "print(f\"Índice de Youden para Árbol de Decisión: {youden_index_tree}\")\n",
        "\n",
        "# Calcular el umbral para optimizar TPR y minimizar FPR en Árbol de Decisión\n",
        "best_threshold_index_tree = np.argmin(tpr_tree + (1 - fpr_tree))\n",
        "best_threshold_tree = thresholds_tree[best_threshold_index_tree]\n",
        "print(f\"Umbral para optimizar TPR y minimizar FPR en Árbol de Decisión: {best_threshold_tree}\")\n"
      ],
      "metadata": {
        "colab": {
          "base_uri": "https://localhost:8080/"
        },
        "id": "ZpOhnU8sae9X",
        "outputId": "e302310f-3b48-47f1-84d1-a00508c8c0a6"
      },
      "execution_count": 104,
      "outputs": [
        {
          "output_type": "stream",
          "name": "stdout",
          "text": [
            "Índice de Youden para Árbol de Decisión: 0.48048780487804876\n",
            "Umbral para optimizar TPR y minimizar FPR en Árbol de Decisión: 2.0\n"
          ]
        }
      ]
    },
    {
      "cell_type": "markdown",
      "source": [
        "Seleccionariamos los siguientes valores:\n",
        "\n",
        "Árbol de Decisión: Umbral = 2.0\n",
        "\n",
        "SVM: Umbral = 2.6944\n",
        "\n",
        "Regresión Logística: Umbral = 1.9886\n",
        "\n",
        "Con estos umbrales se consigue maximizar la capacidad del modelo para detectar casos positivos mientras intenta minimizar la cantidad de falsos positivos.\n",
        "\n",
        "Si tuviera que elegir un umbral me quedaría con el SVM ya que tiene la sensibilidad más alta (2.694) y esto maximiza la deteccion de casos positivos."
      ],
      "metadata": {
        "id": "CTqXax7NbQo_"
      }
    }
  ]
}